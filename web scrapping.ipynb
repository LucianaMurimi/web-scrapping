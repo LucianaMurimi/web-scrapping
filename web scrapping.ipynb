{
 "cells": [
  {
   "cell_type": "markdown",
   "id": "a0c20658-ff10-4734-9eda-e85ad31d861d",
   "metadata": {},
   "source": [
    "# Web Scrapping\n",
    "Extraction of data (information) from websites, transforming it into structured data for further analysis in an automated way using a computer program.\n",
    "## Example use case: Customers Review Analysis\n",
    "Scrapping data for a specific product available on Amazon and analyzing its customers’ reviews. \n"
   ]
  },
  {
   "cell_type": "markdown",
   "id": "10da58e6-5e2e-40aa-9586-494495b5bec6",
   "metadata": {},
   "source": [
    "## Required Libraries: \n",
    "`requests` and `BeautifulSoup`"
   ]
  },
  {
   "cell_type": "code",
   "execution_count": 125,
   "id": "dd2f48ca-85a5-4672-a988-b7640af58711",
   "metadata": {},
   "outputs": [],
   "source": [
    "import requests\n",
    "from bs4 import BeautifulSoup\n",
    "import pandas as pd"
   ]
  },
  {
   "cell_type": "markdown",
   "id": "1dfb439d-c410-4a33-b20d-6a94a13b56de",
   "metadata": {},
   "source": [
    "## Procedure:\n",
    "### Step 1: Crawl\n",
    "The first step will be to navigate to the target website and download the source code of the web page. \n"
   ]
  },
  {
   "cell_type": "code",
   "execution_count": 126,
   "id": "dee21df4-ead5-4950-8269-4621c435b9cb",
   "metadata": {},
   "outputs": [],
   "source": [
    "# target website url\n",
    "url = \"https://www.amazon.in/Apple-MacBook-Chip-13-inch-256GB/dp/B08N5XSG8Z/ref=sr_1_1_sspa?crid=39DGATOSVC4MV&keywords=apple%2Blaptop&qid=1643427205&sprefix=apple%2Blapt%2Caps%2C1230&sr=8-1-spons&spLa=ZW5jcnlwdGVkUXVhbGlmaWVyPUExS1lZUEQwVkczUVFJJmVuY3J5cHRlZElkPUEwNjU3MTIwMlFQNjlPNDZGNE1YMiZlbmNyeXB0ZWRBZElkPUEwNzA2NjQ2MzVaOFdZN0pKQ0hQMSZ3aWRnZXROYW1lPXNwX2F0ZiZhY3Rpb249Y2xpY2tSZWRpcmVjdCZkb05vdExvZ0NsaWNrPXRydWU&th=1\"\n",
    "\n",
    "# GET request to the target website\n",
    "HEADERS = ({'User-Agent': '(Windows NT 10.0; Win64; x64)', 'Accept-Language': 'en-US, en;q=0.5'})\n",
    "def getdata(url):\n",
    "    r = requests.get(url, headers=HEADERS)\n",
    "    return r.text"
   ]
  },
  {
   "cell_type": "markdown",
   "id": "62008fea-bb7e-434b-a6c0-ccba3a23d8f4",
   "metadata": {},
   "source": [
    "### Step 2: Parse and Transform\n",
    "Once the source code of the target webpage is downloaded, filter the contents needed.\n",
    "In this step, the downloaded source code is parsed into a HTML Parser and for this, `BeautifulSoup` library will be required. \n"
   ]
  },
  {
   "cell_type": "code",
   "execution_count": 127,
   "id": "2b28edb4-038d-4d9b-9cf0-27fe3c90cba7",
   "metadata": {},
   "outputs": [],
   "source": [
    "# PARSING the source code\n",
    "def html_code(url):\n",
    "    htmldata = getdata(url)\n",
    "    soup = BeautifulSoup(htmldata, 'html.parser')\n",
    "    return (soup)"
   ]
  },
  {
   "cell_type": "code",
   "execution_count": 128,
   "id": "3e47da3a-c33c-4c12-98fc-86cec39e7d2a",
   "metadata": {},
   "outputs": [],
   "source": [
    "soup = html_code(url)"
   ]
  },
  {
   "cell_type": "code",
   "execution_count": 129,
   "id": "d19d0afd-a2ac-457b-bef2-c169b683a407",
   "metadata": {},
   "outputs": [],
   "source": [
    "# FILTERING the soup(parsed data) to get the needed content : customer list\n",
    "def cus_data(soup):\n",
    "    data_str = \"\"\n",
    "    cus_list = []\n",
    "\n",
    "    for item in soup.find_all(\"span\", class_=\"a-profile-name\"):\n",
    "        data_str = data_str + item.get_text()\n",
    "        cus_list.append(data_str)\n",
    "        data_str = \"\"\n",
    "    return cus_list"
   ]
  },
  {
   "cell_type": "code",
   "execution_count": 130,
   "id": "d03bfd86-0529-4b57-bc56-93cdf6c1eda8",
   "metadata": {},
   "outputs": [
    {
     "data": {
      "text/plain": [
       "['Prady',\n",
       " 'tech geek',\n",
       " 'Shiran Lone',\n",
       " 'Nomadic',\n",
       " 'RK',\n",
       " 'ashish',\n",
       " 'Dr Vignesh',\n",
       " 'suryakala']"
      ]
     },
     "execution_count": 130,
     "metadata": {},
     "output_type": "execute_result"
    }
   ],
   "source": [
    "cus_res = cus_data(soup)\n",
    "cus_res"
   ]
  },
  {
   "cell_type": "code",
   "execution_count": 131,
   "id": "530a7f16-d4bc-442b-99ad-5d3c3256b6ff",
   "metadata": {},
   "outputs": [],
   "source": [
    "# FILTERING the soup(parsed data) to get the needed content : customer reviews\n",
    "def cus_rev(soup):\n",
    "    data_str = \"\"    \n",
    "    for item in soup.find_all(\"div\", class_=\"a-expander-content reviewText review-text-content a-expander-partial-collapse-content\"):\n",
    "        data_str = data_str + item.get_text()\n",
    "\n",
    "    result = data_str.split(\"\\n\")\n",
    "    return result"
   ]
  },
  {
   "cell_type": "code",
   "execution_count": 132,
   "id": "28241df6-4ab2-40dc-83ef-aa010ed594be",
   "metadata": {},
   "outputs": [
    {
     "data": {
      "text/plain": [
       "[\"  Best in class. Performance, Display, Battery backup are above excellent.A must have for every tech geekBought this after selling my Yamaha R15, but no regrets.... It's speed is better than R15. 😅\",\n",
       " \"  Pros:-1. It's Superfast. It will feel fast on everything - from bootup, to app opening, to builds etc.2. It's slim. Air has no fan hence it's form factor is even slimmer than Pro.3. It remains cold even during heavy code builds. It's hard to find things which makes it warm actually.4. I have tried several graphics heavy games and they run great without any heat as well5. If you are just browsing with Wifi on, typically it loses 10% battery in 7-8 hours. But it's for Safari browser. It has achieved I guess what people will call power-efficiency nirvana.6. Screen, Sound and Mic quality are awesomeCons:-1. Since it's winters in India now, some people might not like that it doesn't heat up the surroundings2. For longer workloads - like if you are doing daily large video compressions/conversions and that takes like 15-20 mins, then this machine will not work as fast as Pro; as that's not the load it's optimised for. But ask yourself - whether you are gonna do that at all.3. Camera is 720p and that sucks about every other laptop as well. But Apple has brought some software optimisations which will make it look better4. It doesn't make sound of fan, so you might feel asleep if you are used that to keep track of your ML jobs.Apple started a revolution with this. Go for it, it's worth it.\",\n",
       " '  If we could get it for around 70-75k with some kind of discount that would b huge.. anyways, super excited.',\n",
       " \"  Ordered the M1 Air on 5th August and got it delivered on the 7th. Then on 18th noticed a black/grey spot on the display... quick google search revealed this as a dead pixel and quite common with M1 Macs. So I called up Apple and they offered me two options, either a new replacement Mac or full refund since mine is still under 14 days. As soon as I revealed that I purchased from Amazon, the Apple sales team said sorry they can't help me since Amazon is not Apple authorised seller.I'm never buying another Apple product from Amazon again. If you want the full Apple experience like seamless replacement, refund or after sales then you need to buy it from Apple or from any of its authorised sellers. I made a costly mistake hope others will not after reading this message.\",\n",
       " '  Since the Macbook adapter is having only 2 pins, I am facing earthing issues and the laptop is giving shocks while charging. This is a very expensive laptop and Apple must provide a free 3 pin adapter to avoid earthing issues.',\n",
       " '  Should i buy the 16gb ram from apple store? This was the question i had for a long time. After going through tons of videos that compares 8gb air vs 16gb there was a clear evidence that with my use i can still be happy with the m1 8gb ram variant.This is not a long term review but i shall update the review after few months of usage.Why i opted for 8gb ram?My use is browsing some secure pages, maybe watch some videos too. Use imovies to edit small videos (not heavy 4k long videos as such) but i have seen that this can support even editing 4k videos. But then definitely if you are someone who use it majorly for editing 4k videos then you should probably get the 16gb variant. Then i do a little bit of coding too.I do have a office laptop that is a 16gb ram intel one. I did try opening some youtube 4k vids in chrome and compared it side by side and initial impression is pretty good on how the m1 takes on the load. But I should wait for more to get the actual picture.So, if you are light user with basic use and not into gaming or anything. This laptop is gonna be more than enough for your use. As its very much portable and light weight. The battery is also heavily optimised. ( i tried all these and i am yet to do my initial charging 😊).I shall update my review after 3-6 months for a better comparison.***update after 10 months *****No regrets! This is super fast engine. I do a lot of coding now with this. I feel every software works like a charm in M1 now. Of course we have the updated processor now. This is a start of a super powerful engine',\n",
       " '  Worst experience ever , first of all they sold me a bad product with display issues and now they is no proper response to replace or refund the lap and I have been trying to do this from last one week . I have been calling Amazon customer care from past 5 days . Worst worst experience ever',\n",
       " '  Excellent product  very fast and amazing fast m1 chip so fast and faster  than the intel processor what a power']"
      ]
     },
     "execution_count": 132,
     "metadata": {},
     "output_type": "execute_result"
    }
   ],
   "source": [
    "rev_data = cus_rev(soup)\n",
    "# LOOPING through the array to remove any empty strings\n",
    "rev_result = []\n",
    "for i in rev_data:\n",
    "    if i == \"\":\n",
    "        pass\n",
    "    else:\n",
    "        rev_result.append(i)\n",
    "rev_result"
   ]
  },
  {
   "cell_type": "code",
   "execution_count": 133,
   "id": "fa4d5ceb-13d2-4705-b481-0985a15830cb",
   "metadata": {},
   "outputs": [],
   "source": [
    "# FILTERING the soup(parsed data) to get the needed content : product information\n",
    "def product_info(soup):\n",
    "    data_str = \"\"\n",
    "    pro_info = []\n",
    "\n",
    "    for item in soup.find(\"div\", {\"id\": \"poExpander\"}):\n",
    "        data_str = data_str + item.get_text()\n",
    "        pro_info.append(data_str.split(\"\\n\"))\n",
    "        data_str = \"\"\n",
    "    return pro_info"
   ]
  },
  {
   "cell_type": "code",
   "execution_count": 134,
   "id": "433ca6ce-dedb-47cd-99fa-60f478deef14",
   "metadata": {},
   "outputs": [
    {
     "data": {
      "text/plain": [
       "['     Model Name   MacBook Air     Brand   Apple     Specific Uses For Product   Multimedia     Screen Size   13 Inches     Operating System   MacOS 10.14 Mojave     Human Interface Input   Keyboard     CPU Manufacturer   Apple     Graphics Card Description   Integrated     Special Feature   Portable     Colour   Gold    ',\n",
       " 'See more']"
      ]
     },
     "execution_count": 134,
     "metadata": {},
     "output_type": "execute_result"
    }
   ],
   "source": [
    "pro_data = product_info(soup)\n",
    "# LOOPING through the array to remove any empty strings\n",
    "pro_result = []\n",
    "for item in pro_data:\n",
    "        for i in item:\n",
    "            if i == \"\" or i == \" \":\n",
    "                pass\n",
    "            else:\n",
    "                pro_result.append(i)\n",
    "pro_result"
   ]
  },
  {
   "cell_type": "markdown",
   "id": "73a22e90-2480-48f5-a071-3a92be8b0e4a",
   "metadata": {},
   "source": [
    "### Step 3: Store the Data\n",
    "The final step is to store the extracted data."
   ]
  },
  {
   "cell_type": "code",
   "execution_count": 135,
   "id": "3ef5d7e5-b11c-4760-8790-5e881e5db155",
   "metadata": {},
   "outputs": [],
   "source": [
    "data = {'Name': cus_res,\n",
    "        'review': rev_result}\n",
    "\n",
    "df = pd.DataFrame(data)\n",
    "\n",
    "# Save the output into a csv file\n",
    "df.to_csv('amazon_review.csv')"
   ]
  },
  {
   "cell_type": "markdown",
   "id": "58fd0c29-0d9d-4d80-8851-490d8c3b5858",
   "metadata": {},
   "source": [
    "### Working with images"
   ]
  },
  {
   "cell_type": "code",
   "execution_count": 136,
   "id": "2e12d601-0667-4e0f-9e5e-170554eb86d8",
   "metadata": {},
   "outputs": [
    {
     "data": {
      "text/plain": [
       "['https://m.media-amazon.com/images/I/B1WqbnEWmAS._CR0,840,2160,2160_UX175.jpg',\n",
       " 'https://m.media-amazon.com/images/I/91NhY2JNaBL._CR1084,0,1864,1864_UX175.jpg',\n",
       " 'https://m.media-amazon.com/images/I/B1iQJUOZQoS._CR504,0,3024,3024_UX175.jpg',\n",
       " 'https://m.media-amazon.com/images/I/B1RDBsn7mxS._CR504,0,3024,3024_UX175.jpg']"
      ]
     },
     "execution_count": 136,
     "metadata": {},
     "output_type": "execute_result"
    }
   ],
   "source": [
    "def rev_img(soup):\n",
    "    images = []\n",
    "\n",
    "    for img in soup.findAll('img', class_=\"a-dynamic-image cr-customer-image-thumbnail\"):\n",
    "        images.append(img.get('src'))\n",
    "    return images\n",
    "\n",
    "img_result = rev_img(soup)\n",
    "img_result"
   ]
  },
  {
   "cell_type": "code",
   "execution_count": 137,
   "id": "1917342a-371f-47d5-b954-d26065747836",
   "metadata": {},
   "outputs": [],
   "source": [
    "image_count = 1\n",
    "for image in img_result:\n",
    "    with open('image_'+str(image_count)+'.jpg', 'wb') as f:\n",
    "        res = requests.get(image)\n",
    "        f.write(res.content)\n",
    "    image_count = image_count + 1"
   ]
  },
  {
   "cell_type": "code",
   "execution_count": null,
   "id": "bea6b8c3-c40b-4090-bd2b-9797ee5658ae",
   "metadata": {},
   "outputs": [],
   "source": []
  }
 ],
 "metadata": {
  "kernelspec": {
   "display_name": "Python 3 (ipykernel)",
   "language": "python",
   "name": "python3"
  },
  "language_info": {
   "codemirror_mode": {
    "name": "ipython",
    "version": 3
   },
   "file_extension": ".py",
   "mimetype": "text/x-python",
   "name": "python",
   "nbconvert_exporter": "python",
   "pygments_lexer": "ipython3",
   "version": "3.9.7"
  }
 },
 "nbformat": 4,
 "nbformat_minor": 5
}
